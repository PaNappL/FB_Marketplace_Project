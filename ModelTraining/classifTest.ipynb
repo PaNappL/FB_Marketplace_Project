{
 "cells": [
  {
   "cell_type": "code",
   "execution_count": 4,
   "metadata": {},
   "outputs": [],
   "source": [
    "import sys\n",
    "sys.path.insert(0, './PythonFiles/')\n",
    "\n",
    "import pandas as pd\n",
    "import pickle\n",
    "import datetime\n",
    "import warnings\n",
    "from CategoryChanger import CategoryChanger\n",
    "from Classifiers import Classifiers\n",
    "from DFPreProcessing import CleanDF\n",
    "from Iterative_Classif import Iterative_Classif\n",
    "import multiprocessing as mp"
   ]
  },
  {
   "cell_type": "code",
   "execution_count": null,
   "metadata": {},
   "outputs": [],
   "source": [
    "def get_Categories(df):\n",
    "    df['Category'] = CategoryChanger().changeCategories(df)\n",
    "    categories = df['Category'].unique().tolist()\n",
    "    return categories\n",
    "\n",
    "def classify(Test_X, Test_Y, Train_X, Train_Y):\n",
    "\n",
    "    classif = Classifiers(Train_X, Train_Y, Test_X, Test_Y)\n",
    "\n",
    "    manager = mp.Manager()\n",
    "    classifiers = manager.dict()\n",
    "\n",
    "    p1 = mp.Process(target=classif.Train_NB, args=(classifiers,))\n",
    "    p2 = mp.Process(target=classif.Train_SVM, args=(classifiers,))\n",
    "    p3 = mp.Process(target=classif.Train_RandomForest, args=(classifiers,))\n",
    "    p4 = mp.Process(target=classif.Train_LogReg, args=(classifiers,))\n",
    "\n",
    "    p1.start()\n",
    "    p2.start()\n",
    "    p3.start()\n",
    "    p4.start()\n",
    "\n",
    "    p1.join()\n",
    "    p2.join()\n",
    "    p3.join()\n",
    "    p4.join()\n",
    "\n",
    "    classif.assign_classif(classifiers)\n",
    "    return classif\n",
    "\n",
    "def classifyByCat(train, test, Train_X, Train_Y, Test_X, Test_Y):\n",
    "    warnings.filterwarnings('ignore')\n",
    "    categories = get_Categories(train)\n",
    "\n",
    "    for category in categories:\n",
    "        print(f'--------------------------------Classifying Category: {category}--------------------------------')\n",
    "        try:\n",
    "            train_loc = train.loc[train['Category'] == category]\n",
    "            test_loc = test.loc[test['Category'] == category]\n",
    "\n",
    "            TrainY = Train_Y[train_loc.index]\n",
    "            TrainX = Train_X[train_loc.index]\n",
    "            \n",
    "            TestY = Test_Y[test_loc.index]\n",
    "            TestX = Test_X[test_loc.index]\n",
    "\n",
    "            classifer = Classifiers(TrainX, TrainY, TestX, TestY)\n",
    "            classifer.run_classifiers()\n",
    "            classifer.print_reports()\n",
    "        except:\n",
    "            print(\"Fail\")\n",
    "\n",
    "def classifyByFeatures(Train_X,Train_Y,Test_X,Test_Y):\n",
    "    for i in range(len(Train_X)):\n",
    "        try:\n",
    "            print(f'---------------------------Classifying features set {i}-------------------------------')\n",
    "            classifier = Classifiers(Train_X[i], Train_Y, Test_X[i], Test_Y)\n",
    "            classifier.run_classifiers()\n",
    "            classifier.print_reports()\n",
    "        except Exception as e:\n",
    "            print(e)\n",
    "            print(\"fail\")\n",
    "\n",
    "def years_from_join(df):\n",
    "    year_diff = []\n",
    "    for join_year in df['Join_date']:\n",
    "        today = datetime.date.today()\n",
    "        this_year = today.year\n",
    "        year_diff.append(this_year-int(join_year))\n",
    "    return year_diff\n",
    "\n",
    "def get_label(val):\n",
    "    if int(val) > 2020:\n",
    "        return \"Scam\"\n",
    "    elif int(val) < 2008:\n",
    "        return \"NScam\"\n",
    "    else:\n",
    "        return \"Unknown\"\n",
    "    \n",
    "def saveClassif(iterclass):\n",
    "    data = {'score_log':iterclass.score_log, 'best_classifier_log': iterclass.best_classifier_log, 'best_classifier': iterclass.best_classif}\n",
    "\n",
    "    with open('iterRPA500.pkl', 'wb') as f:\n",
    "        pickle.dump(iterclass, f)\n",
    "\n",
    "    with open('iterRPA500Data.pkl', 'wb') as f:\n",
    "        pickle.dump(data, f)"
   ]
  },
  {
   "cell_type": "code",
   "execution_count": null,
   "metadata": {},
   "outputs": [],
   "source": [
    "trainData = pd.read_csv('trainData.csv', low_memory=False)\n",
    "testData = pd.read_csv('testData.csv', low_memory=False)\n",
    "\n",
    "trainData = CleanDF(trainData).getConvertedDF()\n",
    "\n",
    "trainData['year_diff'] = years_from_join(trainData)\n",
    "testData['year_diff'] = years_from_join(testData)\n",
    "\n",
    "for indx,row in enumerate(trainData['Join_date']):\n",
    "    trainData.loc[indx,'label'] = str(get_label(trainData['Join_date'][indx]))"
   ]
  },
  {
   "cell_type": "code",
   "execution_count": null,
   "metadata": {},
   "outputs": [],
   "source": [
    "iterclass = Iterative_Classif(trainData, testData)\n",
    "iterclass.iterate_Classif_Training(60)"
   ]
  },
  {
   "cell_type": "code",
   "execution_count": null,
   "metadata": {},
   "outputs": [],
   "source": [
    "filePath = \"\"\n"
   ]
  }
 ],
 "metadata": {
  "kernelspec": {
   "display_name": "Python 3",
   "language": "python",
   "name": "python3"
  },
  "language_info": {
   "codemirror_mode": {
    "name": "ipython",
    "version": 3
   },
   "file_extension": ".py",
   "mimetype": "text/x-python",
   "name": "python",
   "nbconvert_exporter": "python",
   "pygments_lexer": "ipython3",
   "version": "3.11.2"
  },
  "orig_nbformat": 4,
  "vscode": {
   "interpreter": {
    "hash": "ab073417aee6150cebb7ee6b28c073b6e2f8620c2cccbc7bf47d0cd364b12075"
   }
  }
 },
 "nbformat": 4,
 "nbformat_minor": 2
}
