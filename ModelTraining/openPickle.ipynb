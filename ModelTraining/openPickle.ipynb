{
 "cells": [
  {
   "cell_type": "code",
   "execution_count": null,
   "metadata": {},
   "outputs": [],
   "source": [
    "import sys\n",
    "sys.path.insert(0, './PythonFiles/')\n",
    "\n",
    "import pandas as pd\n",
    "import pickle\n",
    "from Classifiers import Classifiers\n",
    "from Iterative_Classif import Iterative_Classif\n",
    "from Iterative_Classif2 import Iterative_Classif2\n",
    "from Iterative_Classif_MIN import Iterative_Classif_MIN\n",
    "import multiprocessing as mp"
   ]
  },
  {
   "cell_type": "code",
   "execution_count": null,
   "metadata": {},
   "outputs": [],
   "source": [
    "def classify(Test_X, Test_Y, Train_X, Train_Y):\n",
    "\n",
    "    classif = Classifiers(Train_X, Train_Y, Test_X, Test_Y)\n",
    "\n",
    "    manager = mp.Manager()\n",
    "    classifiers = manager.dict()\n",
    "\n",
    "    p1 = mp.Process(target=classif.Train_NB, args=(classifiers,))\n",
    "    p2 = mp.Process(target=classif.Train_SVM, args=(classifiers,))\n",
    "    p3 = mp.Process(target=classif.Train_RandomForest, args=(classifiers,))\n",
    "    p4 = mp.Process(target=classif.Train_LogReg, args=(classifiers,))\n",
    "\n",
    "    p1.start()\n",
    "    p2.start()\n",
    "    p3.start()\n",
    "    p4.start()\n",
    "\n",
    "    p1.join()\n",
    "    p2.join()\n",
    "    p3.join()\n",
    "    p4.join()\n",
    "\n",
    "    classif.assign_classif(classifiers)\n",
    "    return classif"
   ]
  },
  {
   "cell_type": "code",
   "execution_count": null,
   "metadata": {},
   "outputs": [],
   "source": [
    "def openFile(filePath):\n",
    "    try:\n",
    "        with open(f'{filePath}.pkl', 'rb') as f:\n",
    "            iterclass = pickle.load(f)\n",
    "    except:\n",
    "        raise Exception(\"Incorrect file path\")\n",
    "\n",
    "    try:\n",
    "        with open(f'{filePath}Data.pkl', 'rb') as f:\n",
    "            data = pickle.load(f)\n",
    "\n",
    "        iterclass.score_log = data['score_log']\n",
    "        iterclass.best_classifier_log = data['best_classifier_log']\n",
    "        if 'best_classifier' in data.keys():\n",
    "            iterclass.best_classif = data['best_classifier']\n",
    "    except:\n",
    "        print(\"Data File Not Present\")\n",
    "\n",
    "    return iterclass\n",
    "\n",
    "def printPerformance(iterclass):\n",
    "    Test_X, Test_Y, Train_X, Train_Y = iterclass.Test_X, iterclass.Test_Y, iterclass.Train_X, iterclass.Train_Y\n",
    "\n",
    "    classif = classify(Test_X, Test_Y, Train_X, Train_Y)\n",
    "    classif.print_reports()\n",
    "\n",
    "    return classif"
   ]
  },
  {
   "cell_type": "code",
   "execution_count": null,
   "metadata": {},
   "outputs": [],
   "source": [
    "filePath = \"Models/oneStep500_YearDiff\"\n",
    "iterclass = openFile(filePath)"
   ]
  },
  {
   "cell_type": "code",
   "execution_count": null,
   "metadata": {},
   "outputs": [],
   "source": [
    "printPerformance(iterclass)"
   ]
  }
 ],
 "metadata": {
  "kernelspec": {
   "display_name": "Python 3",
   "language": "python",
   "name": "python3"
  },
  "language_info": {
   "codemirror_mode": {
    "name": "ipython",
    "version": 3
   },
   "file_extension": ".py",
   "mimetype": "text/x-python",
   "name": "python",
   "nbconvert_exporter": "python",
   "pygments_lexer": "ipython3",
   "version": "3.11.2"
  },
  "orig_nbformat": 4
 },
 "nbformat": 4,
 "nbformat_minor": 2
}
