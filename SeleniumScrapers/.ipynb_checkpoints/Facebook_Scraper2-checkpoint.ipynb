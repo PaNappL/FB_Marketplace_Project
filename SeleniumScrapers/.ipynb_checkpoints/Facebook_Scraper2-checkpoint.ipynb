{
 "cells": [
  {
   "cell_type": "code",
   "execution_count": 3,
   "id": "8a0654f3",
   "metadata": {},
   "outputs": [],
   "source": [
    "#imports here\n",
    "import os, csv, threading, multiprocessing, time, random, itertools, math\n",
    "import Scrapers\n",
    "from multiprocessing import Pool, cpu_count"
   ]
  },
  {
   "cell_type": "code",
   "execution_count": 4,
   "id": "c0f2b140",
   "metadata": {},
   "outputs": [],
   "source": [
    "used_words = set()\n",
    "\n",
    "def start_scrape(urls, savePath):\n",
    "    listings = Scrapers.Mrktplc_Listings()\n",
    "    for url in urls:\n",
    "        listings.fetch_data(url, savePath)\n",
    "\n",
    "def random_words(num_words, used_words=set()):\n",
    "    # load a list of English words\n",
    "    with open('words.txt', 'r') as f:\n",
    "        words = [line.strip() for line in f]\n",
    "\n",
    "    if len(used_words) == len(words):\n",
    "        raise Exception(\"All words have been used\")\n",
    "\n",
    "    # choose num_words random words from the list\n",
    "    random_words = []\n",
    "    for i in range(num_words):\n",
    "        # choose a random word from the list\n",
    "        word = random.choice(words)\n",
    "\n",
    "        # check if the word has already been used\n",
    "        if word in used_words:\n",
    "            # if it has, generate a new word until we find one that hasn't been used\n",
    "            while word in used_words:\n",
    "                word = random.choice(words)\n",
    "        else:\n",
    "            # if it hasn't been used, add it to the set of used words\n",
    "            used_words.add(word)\n",
    "\n",
    "        random_words.append(word)\n",
    "\n",
    "    return random_words\n",
    "\n",
    "def to_url(word):\n",
    "    return f\"https://www.facebook.com/marketplace/106246092739961/search?query={word}\"\n",
    "\n",
    "def random_urls(url_count: int):\n",
    "    alphabet = \"abcdefghijklmnopqrstuvwxyz\"\n",
    "    urls = []\n",
    "\n",
    "    looping = math.ceil(math.log(url_count,len(alphabet)))\n",
    "\n",
    "    for i in range(looping):\n",
    "        for word in itertools.product(alphabet, repeat=i+1):\n",
    "            urls.append(to_url(''.join(word)))\n",
    "            if len(urls) == url_count:\n",
    "                return urls\n",
    "\n",
    "def thread_urls(threads, per_thread: int):\n",
    "    words_count = per_thread * threads\n",
    "    urls = random_urls(words_count)\n",
    "\n",
    "    # Create a list of lists to store the split URLs\n",
    "    split_urls = [[] for _ in range(threads)]\n",
    "\n",
    "    # Iterate over the URLs and assign them to the appropriate list in split_urls\n",
    "    for i, url in enumerate(urls):\n",
    "        split_urls[i % threads].append(url)\n",
    "\n",
    "    return split_urls\n"
   ]
  },
  {
   "cell_type": "code",
   "execution_count": 5,
   "id": "981758dc",
   "metadata": {},
   "outputs": [],
   "source": [
    "basePath = '../../Desktop/Uni/Year3-Project/CSV_Files/All_Listings/Links'\n",
    "url = \"https://www.facebook.com/marketplace/\"\n",
    "threads_used = 1\n",
    "words_count = 10000\n",
    "\n",
    "paths = [basePath+f\"{i}.csv\" for i in range(threads_used)]\n",
    "\n",
    "# words_lists = [random_words(words_count, used_words) for i in range(threads_used)]\n",
    "# urls_lists = [[to_url(word) for word in list] for list in words_lists]\n",
    "\n",
    "urls_lists = [random_urls(words_count) for i in range(threads_used)]\n",
    "\n",
    "urls2 = thread_urls(threads_used,words_count)"
   ]
  },
  {
   "cell_type": "code",
   "execution_count": 6,
   "id": "a8441daf",
   "metadata": {},
   "outputs": [],
   "source": [
    "threads = []\n",
    "for i in range(threads_used):\n",
    "    threads.append(threading.Thread(target=start_scrape, args=(urls_lists[i],paths[i])))\n",
    "\n",
    "for thread in threads:\n",
    "    thread.start()\n",
    "    time.sleep(2)"
   ]
  },
  {
   "cell_type": "code",
   "execution_count": null,
   "id": "956f44c0",
   "metadata": {},
   "outputs": [],
   "source": []
  }
 ],
 "metadata": {
  "kernelspec": {
   "display_name": "Python 3 (ipykernel)",
   "language": "python",
   "name": "python3"
  },
  "language_info": {
   "codemirror_mode": {
    "name": "ipython",
    "version": 3
   },
   "file_extension": ".py",
   "mimetype": "text/x-python",
   "name": "python",
   "nbconvert_exporter": "python",
   "pygments_lexer": "ipython3",
   "version": "3.10.4"
  },
  "vscode": {
   "interpreter": {
    "hash": "daf8ec14243273134b0a49a9958b9a813df1225fe55e6942c3723e1ef6b4aa3d"
   }
  }
 },
 "nbformat": 4,
 "nbformat_minor": 5
}
