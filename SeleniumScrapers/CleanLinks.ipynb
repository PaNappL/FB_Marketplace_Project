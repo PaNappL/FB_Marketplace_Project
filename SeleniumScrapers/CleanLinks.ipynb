{
 "cells": [
  {
   "cell_type": "code",
   "execution_count": 12,
   "id": "6a09ec06",
   "metadata": {},
   "outputs": [],
   "source": [
    "import csv, glob\n",
    "import pandas as pd"
   ]
  },
  {
   "cell_type": "code",
   "execution_count": 13,
   "id": "fa7af712",
   "metadata": {},
   "outputs": [],
   "source": [
    "filesPath = \"../CSV_Files/All_Listings\"\n",
    "allPath = filesPath+\"ALL.csv\"\n",
    "usedPath = filesPath+\"Used.csv\"\n",
    "failedPath = filesPath+\"Failed.csv\""
   ]
  },
  {
   "cell_type": "code",
   "execution_count": 14,
   "id": "c74430b7",
   "metadata": {},
   "outputs": [
    {
     "name": "stdout",
     "output_type": "stream",
     "text": [
      "62664\n",
      "18708\n",
      "4879\n"
     ]
    }
   ],
   "source": [
    "df = pd.read_csv(allPath)\n",
    "udf = pd.read_csv(usedPath)\n",
    "fdf = pd.read_csv(failedPath)\n",
    "\n",
    "allL = df[\"Links\"].to_list()\n",
    "usedL = udf[\"Links\"].to_list()\n",
    "failedL = fdf[\"Links\"].to_list()"
   ]
  },
  {
   "cell_type": "code",
   "execution_count": 4,
   "id": "b830ac6e",
   "metadata": {},
   "outputs": [
    {
     "name": "stdout",
     "output_type": "stream",
     "text": [
      "63148\n"
     ]
    }
   ],
   "source": [
    "allL = set(allL)\n",
    "usedL = set(usedL)\n",
    "\n",
    "left = allL - usedL"
   ]
  },
  {
   "cell_type": "code",
   "execution_count": 5,
   "id": "66aa79b2",
   "metadata": {},
   "outputs": [],
   "source": [
    "with open(allPath, 'w', newline=\"\") as w:\n",
    "    writer = csv.writer(w)\n",
    "    writer.writerow([\"Links\"])\n",
    "    for link in left:\n",
    "        writer.writerow([link])"
   ]
  },
  {
   "cell_type": "code",
   "execution_count": 37,
   "id": "10c004e4",
   "metadata": {},
   "outputs": [],
   "source": [
    "l = []\n",
    "with open(filesPath+'Links0.csv', 'r') as r:\n",
    "    reader = csv.reader(r, delimiter=',')\n",
    "    for row in reader:\n",
    "        if row != ['L','i','n','k','s']:\n",
    "            l.append(row)\n",
    "        "
   ]
  },
  {
   "cell_type": "code",
   "execution_count": 39,
   "id": "1fc8c476",
   "metadata": {},
   "outputs": [],
   "source": [
    "with open(filesPath+'Links1.csv','w', newline=\"\") as w:\n",
    "    writer = csv.writer(w)\n",
    "    writer.writerows(l)"
   ]
  },
  {
   "cell_type": "code",
   "execution_count": null,
   "id": "5b854d9d",
   "metadata": {},
   "outputs": [],
   "source": []
  }
 ],
 "metadata": {
  "kernelspec": {
   "display_name": "Python 3 (ipykernel)",
   "language": "python",
   "name": "python3"
  },
  "language_info": {
   "codemirror_mode": {
    "name": "ipython",
    "version": 3
   },
   "file_extension": ".py",
   "mimetype": "text/x-python",
   "name": "python",
   "nbconvert_exporter": "python",
   "pygments_lexer": "ipython3",
   "version": "3.10.4"
  }
 },
 "nbformat": 4,
 "nbformat_minor": 5
}
